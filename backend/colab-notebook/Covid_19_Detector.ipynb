{
  "nbformat": 4,
  "nbformat_minor": 0,
  "metadata": {
    "colab": {
      "name": "Covid-19 Detector",
      "provenance": [],
      "collapsed_sections": [],
      "include_colab_link": true
    },
    "kernelspec": {
      "display_name": "Python 3",
      "name": "python3"
    }
  },
  "cells": [
    {
      "cell_type": "markdown",
      "metadata": {
        "id": "view-in-github",
        "colab_type": "text"
      },
      "source": [
        "<a href=\"https://colab.research.google.com/github/AmoghTantradi/Covid-19-Image-Detection/blob/master/Covid_19_Detector.ipynb\" target=\"_parent\"><img src=\"https://colab.research.google.com/assets/colab-badge.svg\" alt=\"Open In Colab\"/></a>"
      ]
    },
    {
      "cell_type": "code",
      "metadata": {
        "id": "OarHX6Y4f1Pm",
        "outputId": "77ddf2bd-af9f-469e-846c-f218e82a6aa1",
        "colab": {
          "base_uri": "https://localhost:8080/",
          "height": 454
        }
      },
      "source": [
        "#Dataset : https://www.dropbox.com/s/v10dagvcdtqytyc/CovidDataset-20200427T133042Z-001.zip?dl=0\n",
        "\n",
        "!wget https://www.dropbox.com/s/v10dagvcdtqytyc/CovidDataset-20200427T133042Z-001.zip?dl=0\n",
        "\n",
        "\n",
        "\n"
      ],
      "execution_count": null,
      "outputs": [
        {
          "output_type": "stream",
          "text": [
            "--2020-10-19 04:46:15--  https://www.dropbox.com/s/v10dagvcdtqytyc/CovidDataset-20200427T133042Z-001.zip?dl=0\n",
            "Resolving www.dropbox.com (www.dropbox.com)... 162.125.82.1, 2620:100:6032:1::a27d:5201\n",
            "Connecting to www.dropbox.com (www.dropbox.com)|162.125.82.1|:443... connected.\n",
            "HTTP request sent, awaiting response... 301 Moved Permanently\n",
            "Location: /s/raw/v10dagvcdtqytyc/CovidDataset-20200427T133042Z-001.zip [following]\n",
            "--2020-10-19 04:46:16--  https://www.dropbox.com/s/raw/v10dagvcdtqytyc/CovidDataset-20200427T133042Z-001.zip\n",
            "Reusing existing connection to www.dropbox.com:443.\n",
            "HTTP request sent, awaiting response... 302 Found\n",
            "Location: https://uc353227513e7e08b4a6cdf92bc2.dl.dropboxusercontent.com/cd/0/inline/BBjUtYmBN3pqjJn07FMwNzmj4gBT6u9if6GjV6-U1MBUwvmuhcCHNE37G0CG6psiCfcqwLNXO2qGP3G3gfXNgdpUBR_IWvGcgZBk3Y2ab0URJH31RuatzxRBCsMgGMPPRHk/file# [following]\n",
            "--2020-10-19 04:46:16--  https://uc353227513e7e08b4a6cdf92bc2.dl.dropboxusercontent.com/cd/0/inline/BBjUtYmBN3pqjJn07FMwNzmj4gBT6u9if6GjV6-U1MBUwvmuhcCHNE37G0CG6psiCfcqwLNXO2qGP3G3gfXNgdpUBR_IWvGcgZBk3Y2ab0URJH31RuatzxRBCsMgGMPPRHk/file\n",
            "Resolving uc353227513e7e08b4a6cdf92bc2.dl.dropboxusercontent.com (uc353227513e7e08b4a6cdf92bc2.dl.dropboxusercontent.com)... 162.125.82.15, 2620:100:6032:15::a27d:520f\n",
            "Connecting to uc353227513e7e08b4a6cdf92bc2.dl.dropboxusercontent.com (uc353227513e7e08b4a6cdf92bc2.dl.dropboxusercontent.com)|162.125.82.15|:443... connected.\n",
            "HTTP request sent, awaiting response... 302 Found\n",
            "Location: /cd/0/inline2/BBjUHwlE3TtyDnTXAfJKj2EegQXAYvOnl72VwZ2kcMtfFAle7t8F7OOEP8zeNEoxHLUZ3__q6xUakkXgO7jcsyHjRm6ZWBa8cvcmce0BM4NChvJY9YSI2LAxeAEzpgHS9toT1CwYN4zc5yioSn4TL9g6V4pmu2_FmkEOaK4MKHo6n44KZ43nAN0AoU-RFJYKnDvmy8leXL6_T6DyVsgOVEY4MFfqMu2bj2AuXLRn2QAzl7i4PzFIXAa_dDPg52b2L_yKcwslC9gAeTJvsnONEN1rmiPOw-y6rZMw-R20a-p_3VXsoOs0zhFcJjTi1NH4wYEXCGnLk-wC_dAcoU_-Qw7djYCFsiarid4WvUzNERbCsA/file [following]\n",
            "--2020-10-19 04:46:17--  https://uc353227513e7e08b4a6cdf92bc2.dl.dropboxusercontent.com/cd/0/inline2/BBjUHwlE3TtyDnTXAfJKj2EegQXAYvOnl72VwZ2kcMtfFAle7t8F7OOEP8zeNEoxHLUZ3__q6xUakkXgO7jcsyHjRm6ZWBa8cvcmce0BM4NChvJY9YSI2LAxeAEzpgHS9toT1CwYN4zc5yioSn4TL9g6V4pmu2_FmkEOaK4MKHo6n44KZ43nAN0AoU-RFJYKnDvmy8leXL6_T6DyVsgOVEY4MFfqMu2bj2AuXLRn2QAzl7i4PzFIXAa_dDPg52b2L_yKcwslC9gAeTJvsnONEN1rmiPOw-y6rZMw-R20a-p_3VXsoOs0zhFcJjTi1NH4wYEXCGnLk-wC_dAcoU_-Qw7djYCFsiarid4WvUzNERbCsA/file\n",
            "Reusing existing connection to uc353227513e7e08b4a6cdf92bc2.dl.dropboxusercontent.com:443.\n",
            "HTTP request sent, awaiting response... 200 OK\n",
            "Length: 140830621 (134M) [application/zip]\n",
            "Saving to: ‘CovidDataset-20200427T133042Z-001.zip?dl=0’\n",
            "\n",
            "CovidDataset-202004 100%[===================>] 134.31M  17.8MB/s    in 8.0s    \n",
            "\n",
            "2020-10-19 04:46:25 (16.8 MB/s) - ‘CovidDataset-20200427T133042Z-001.zip?dl=0’ saved [140830621/140830621]\n",
            "\n"
          ],
          "name": "stdout"
        }
      ]
    },
    {
      "cell_type": "code",
      "metadata": {
        "id": "r7ZDh4bGgE-n",
        "outputId": "32732421-3b29-4bbd-aff4-54dd9f401a08",
        "colab": {
          "base_uri": "https://localhost:8080/",
          "height": 1000
        }
      },
      "source": [
        "!unzip covid_19"
      ],
      "execution_count": null,
      "outputs": [
        {
          "output_type": "stream",
          "text": [
            "Archive:  covid_19\n",
            "  inflating: CovidDataset/Val/Covid/88de9d8c39e946abd495b37cd07d89e5-6531-0.jpg  \n",
            "  inflating: CovidDataset/Val/Covid/covid-19-pneumonia-8.jpg  \n",
            "  inflating: CovidDataset/Val/Covid/85E52EB3-56E9-4D67-82DA-DEA247C82886.jpeg  \n",
            "  inflating: CovidDataset/Val/Covid/4-x-day1.jpg  \n",
            "  inflating: CovidDataset/Val/Covid/covid-19-pneumonia-53.jpg  \n",
            "  inflating: CovidDataset/Val/Covid/4e43e48d52c9e2d4c6c1fb9bc1544f_jumbo.jpeg  \n",
            "  inflating: CovidDataset/Val/Covid/covid-19-pneumonia-35-1.jpg  \n",
            "  inflating: CovidDataset/Val/Covid/53EC07C9-5CC6-4BE4-9B6F-D7B0D72AAA7E.jpeg  \n",
            "  inflating: CovidDataset/Val/Covid/6CB4EFC6-68FA-4CD5-940C-BEFA8DAFE9A7.jpeg  \n",
            "  inflating: CovidDataset/Val/Covid/58cb9263f16e94305c730685358e4e_jumbo.jpeg  \n",
            "  inflating: CovidDataset/Val/Covid/6b3bdbc31f65230b8cdcc3cef5f8ba8a-40ac-0.jpg  \n",
            "  inflating: CovidDataset/Val/Covid/auntminnie-d-2020_01_28_23_51_6665_2020_01_28_Vietnam_coronavirus.jpeg  \n",
            "  inflating: CovidDataset/Val/Covid/6b44464d-73a7-4cf3-bbb6-ffe7168300e3.annot.original.jpeg  \n",
            "  inflating: CovidDataset/Val/Covid/88de9d8c39e946abd495b37cd07d89e5-2ee6-0.jpg  \n",
            "  inflating: CovidDataset/Val/Covid/31BA3780-2323-493F-8AED-62081B9C383B.jpeg  \n",
            "  inflating: CovidDataset/Val/Covid/B2D20576-00B7-4519-A415-72DE29C90C34.jpeg  \n",
            "  inflating: CovidDataset/Val/Covid/6C94A287-C059-46A0-8600-AFB95F4727B7.jpeg  \n",
            "  inflating: CovidDataset/Train/Covid/1-s2.0-S1684118220300682-main.pdf-003-b2.png  \n",
            "  inflating: CovidDataset/Val/Covid/41591_2020_819_Fig1_HTML.webp-day5.png  \n",
            "  inflating: CovidDataset/Val/Covid/41591_2020_819_Fig1_HTML.webp-day10.png  \n",
            "  inflating: CovidDataset/Train/Covid/1-s2.0-S1684118220300682-main.pdf-003-b1.png  \n",
            "  inflating: CovidDataset/Val/Covid/16654_2_1.jpg  \n",
            "  inflating: CovidDataset/Train/Covid/nCoV-radiol.2020200269.fig1-day7.jpeg  \n",
            "  inflating: CovidDataset/Val/Covid/auntminnie-c-2020_01_28_23_51_6665_2020_01_28_Vietnam_coronavirus.jpeg  \n",
            "  inflating: CovidDataset/Train/Covid/7-fatal-covid19.jpg  \n",
            "  inflating: CovidDataset/Train/Covid/auntminnie-b-2020_01_28_23_51_6665_2020_01_28_Vietnam_coronavirus.jpeg  \n",
            "  inflating: CovidDataset/Train/Normal/NORMAL2-IM-0986-0001.jpeg  \n",
            "  inflating: CovidDataset/Train/Normal/IM-0332-0001.jpeg  \n",
            "  inflating: CovidDataset/Train/Covid/extubation-13.jpg  \n",
            "  inflating: CovidDataset/Val/Covid/covid-19-pneumonia-35-2.jpg  \n",
            "  inflating: CovidDataset/Train/Normal/NORMAL2-IM-1337-0001.jpeg  \n",
            "  inflating: CovidDataset/Val/Covid/covid-19-pneumonia-12.jpg  \n",
            "  inflating: CovidDataset/Train/Normal/IM-0644-0001-0002.jpeg  \n",
            "  inflating: CovidDataset/Train/Covid/ryct.2020200034.fig5-day7.jpeg  \n",
            "  inflating: CovidDataset/Val/Covid/7AF6C1AF-D249-4BD2-8C26-449304105D03.jpeg  \n",
            "  inflating: CovidDataset/Train/Covid/covid-19-pneumonia-15-PA.jpg  \n",
            "  inflating: CovidDataset/Train/Covid/1-s2.0-S1684118220300608-main.pdf-002.jpg  \n",
            "  inflating: CovidDataset/Train/Normal/IM-0528-0001.jpeg  \n",
            "  inflating: CovidDataset/Train/Covid/80446565-E090-4187-A031-9D3CEAA586C8.jpeg  \n",
            "  inflating: CovidDataset/Train/Covid/1-s2.0-S0929664620300449-gr2_lrg-d.jpg  \n",
            "  inflating: CovidDataset/Train/Covid/covid-19-pneumonia-bilateral.jpg  \n",
            "  inflating: CovidDataset/Train/Normal/NORMAL2-IM-1020-0001-0001.jpeg  \n",
            "  inflating: CovidDataset/Train/Covid/E63574A7-4188-4C8D-8D17-9D67A18A1AFA.jpeg  \n",
            "  inflating: CovidDataset/Train/Normal/IM-0327-0001.jpeg  \n",
            "  inflating: CovidDataset/Train/Covid/AR-1.jpg  \n",
            "  inflating: CovidDataset/Train/Covid/F2DE909F-E19C-4900-92F5-8F435B031AC6.jpeg  \n",
            "  inflating: CovidDataset/Val/Normal/NORMAL2-IM-0851-0001.jpeg  \n",
            "  inflating: CovidDataset/Train/Covid/covid-19-pneumonia-2.jpg  \n",
            "  inflating: CovidDataset/Train/Normal/IM-0539-0001.jpeg  \n",
            "  inflating: CovidDataset/Train/Normal/IM-0495-0001.jpeg  \n",
            "  inflating: CovidDataset/Train/Normal/IM-0533-0001-0002.jpeg  \n",
            "  inflating: CovidDataset/Train/Normal/IM-0724-0001.jpeg  \n",
            "  inflating: CovidDataset/Train/Covid/1.CXRCTThoraximagesofCOVID-19fromSingapore.pdf-001-fig2a.png  \n",
            "  inflating: CovidDataset/Train/Covid/1-s2.0-S0140673620303706-fx1_lrg.jpg  \n",
            "  inflating: CovidDataset/Train/Normal/IM-0491-0001-0002.jpeg  \n",
            "  inflating: CovidDataset/Train/Covid/covid-19-pneumonia-58-day-9.jpg  \n",
            "  inflating: CovidDataset/Train/Normal/IM-0555-0001.jpeg  \n",
            "  inflating: CovidDataset/Train/Covid/1.CXRCTThoraximagesofCOVID-19fromSingapore.pdf-000-fig1b.png  \n",
            "  inflating: CovidDataset/Train/Normal/IM-0326-0001.jpeg  \n",
            "  inflating: CovidDataset/Train/Covid/covid-19-caso-70-1-PA.jpg  \n",
            "  inflating: CovidDataset/Train/Covid/1.CXRCTThoraximagesofCOVID-19fromSingapore.pdf-001-fig2b.png  \n",
            "  inflating: CovidDataset/Val/Normal/NORMAL2-IM-0730-0001.jpeg  \n",
            "  inflating: CovidDataset/Train/Normal/IM-0451-0001.jpeg  \n",
            "  inflating: CovidDataset/Val/Covid/7C69C012-7479-493F-8722-ABC29C60A2DD.jpeg  \n",
            "  inflating: CovidDataset/Train/Covid/16660_2_1.jpg  \n",
            "  inflating: CovidDataset/Train/Covid/1-s2.0-S1684118220300608-main.pdf-001.jpg  \n",
            "  inflating: CovidDataset/Train/Covid/kjr-21-e24-g003-l-a.jpg  \n",
            "  inflating: CovidDataset/Train/Covid/nejmoa2001191_f1-PA.jpeg  \n",
            "  inflating: CovidDataset/Train/Normal/IM-0534-0001.jpeg  \n",
            "  inflating: CovidDataset/Train/Covid/kjr-21-e24-g002-l-a.jpg  \n",
            "  inflating: CovidDataset/Train/Covid/covid-19-pneumonia-38-pa.jpg  \n",
            "  inflating: CovidDataset/Train/Normal/NORMAL2-IM-0529-0001.jpeg  \n",
            "  inflating: CovidDataset/Train/Covid/9C34AF49-E589-44D5-92D3-168B3B04E4A6.jpeg  \n",
            "  inflating: CovidDataset/Train/Normal/IM-0221-0001.jpeg  \n",
            "  inflating: CovidDataset/Val/Normal/NORMAL2-IM-1191-0001.jpeg  \n",
            "  inflating: CovidDataset/Train/Normal/NORMAL2-IM-0831-0001.jpeg  \n",
            "  inflating: CovidDataset/Train/Normal/IM-0500-0001.jpeg  \n",
            "  inflating: CovidDataset/Val/Normal/NORMAL2-IM-1228-0001.jpeg  \n",
            "  inflating: CovidDataset/Train/Covid/extubation-1.jpg  \n",
            "  inflating: CovidDataset/Train/Covid/covid-19-infection-exclusive-gastrointestinal-symptoms-l.png  \n",
            "  inflating: CovidDataset/Val/Normal/NORMAL2-IM-1037-0001.jpeg  \n",
            "  inflating: CovidDataset/Train/Normal/NORMAL2-IM-0956-0001.jpeg  \n",
            "  inflating: CovidDataset/Train/Normal/NORMAL2-IM-0847-0001.jpeg  \n",
            "  inflating: CovidDataset/Train/Normal/IM-0389-0001.jpeg  \n",
            "  inflating: CovidDataset/Train/Normal/IM-0660-0001-0001.jpeg  \n",
            "  inflating: CovidDataset/Train/Covid/16672_1_1.jpg  \n",
            "  inflating: CovidDataset/Train/Normal/IM-0700-0001.jpeg  \n",
            "  inflating: CovidDataset/Train/Normal/NORMAL2-IM-1305-0001.jpeg  \n",
            "  inflating: CovidDataset/Train/Covid/16660_4_1.jpg  \n",
            "  inflating: CovidDataset/Val/Covid/353889E0-A1E8-4F9E-A0B8-F24F36BCFBFB.jpeg  \n",
            "  inflating: CovidDataset/Train/Covid/covid-19-pneumonia-22-day2-pa.png  \n",
            "  inflating: CovidDataset/Train/Normal/IM-0472-0001.jpeg  \n",
            "  inflating: CovidDataset/Train/Normal/NORMAL2-IM-1202-0001.jpeg  \n",
            "  inflating: CovidDataset/Train/Normal/NORMAL2-IM-1188-0001.jpeg  \n",
            "  inflating: CovidDataset/Train/Covid/2C26F453-AF3B-4517-BB9E-802CF2179543.jpeg  \n",
            "  inflating: CovidDataset/Train/Normal/NORMAL2-IM-1290-0001.jpeg  \n",
            "  inflating: CovidDataset/Train/Normal/NORMAL2-IM-1346-0001.jpeg  \n",
            "  inflating: CovidDataset/Train/Normal/NORMAL2-IM-1345-0001-0001.jpeg  \n",
            "  inflating: CovidDataset/Train/Covid/radiol.2020200274.fig3d.png  \n",
            "  inflating: CovidDataset/Train/Normal/IM-0669-0001.jpeg  \n",
            "  inflating: CovidDataset/Train/Normal/IM-0270-0001.jpeg  \n",
            "  inflating: CovidDataset/Train/Covid/covid-19-pneumonia-28.png  \n",
            "  inflating: CovidDataset/Train/Covid/ryct.2020200034.fig2.jpeg  \n",
            "  inflating: CovidDataset/Train/Normal/NORMAL2-IM-1287-0001.jpeg  \n",
            "  inflating: CovidDataset/Train/Covid/1.CXRCTThoraximagesofCOVID-19fromSingapore.pdf-000-fig1a.png  \n",
            "  inflating: CovidDataset/Train/Normal/NORMAL2-IM-0626-0001.jpeg  \n",
            "  inflating: CovidDataset/Train/Normal/IM-0543-0001.jpeg  \n",
            "  inflating: CovidDataset/Val/Normal/NORMAL2-IM-0857-0001.jpeg  \n",
            "  inflating: CovidDataset/Val/Normal/NORMAL2-IM-0905-0001.jpeg  \n",
            "  inflating: CovidDataset/Train/Covid/1-s2.0-S0929664620300449-gr2_lrg-a.jpg  \n",
            "  inflating: CovidDataset/Val/Covid/16654_1_1.png  \n",
            "  inflating: CovidDataset/Train/Covid/kjr-21-e24-g001-l-a.jpg  \n",
            "  inflating: CovidDataset/Train/Normal/IM-0433-0001.jpeg  \n",
            "  inflating: CovidDataset/Train/Covid/covid-19-pneumonia-58-day-10.jpg  \n",
            "  inflating: CovidDataset/Val/Covid/16654_4_1.jpg  \n",
            "  inflating: CovidDataset/Val/Normal/NORMAL2-IM-0790-0001.jpeg  \n",
            "  inflating: CovidDataset/Train/Normal/NORMAL2-IM-1326-0001.jpeg  \n",
            "  inflating: CovidDataset/Train/Normal/IM-0563-0001.jpeg  \n",
            "  inflating: CovidDataset/Train/Covid/ae6c954c0039de4b5edee53865ffee43-e6c8-0.jpg  \n",
            "  inflating: CovidDataset/Val/Covid/23E99E2E-447C-46E5-8EB2-D35D12473C39.png  \n",
            "  inflating: CovidDataset/Train/Covid/gr1_lrg-a.jpg  \n",
            "  inflating: CovidDataset/Train/Normal/IM-0564-0001.jpeg  \n",
            "  inflating: CovidDataset/Train/Normal/NORMAL2-IM-0499-0001.jpeg  \n",
            "  inflating: CovidDataset/Train/Covid/16663_1_1.jpg  \n",
            "  inflating: CovidDataset/Train/Covid/extubation-8.jpg  \n",
            "  inflating: CovidDataset/Train/Covid/paving.jpg  \n",
            "  inflating: CovidDataset/Train/Normal/IM-0529-0001.jpeg  \n",
            "  inflating: CovidDataset/Train/Normal/IM-0425-0001.jpeg  \n",
            "  inflating: CovidDataset/Train/Normal/IM-0439-0001.jpeg  \n",
            "  inflating: CovidDataset/Train/Normal/IM-0491-0001.jpeg  \n",
            "  inflating: CovidDataset/Train/Normal/IM-0337-0001.jpeg  \n",
            "  inflating: CovidDataset/Train/Covid/all14238-fig-0001-m-b.jpg  \n",
            "  inflating: CovidDataset/Train/Covid/covid-19-infection-exclusive-gastrointestinal-symptoms-pa.png  \n",
            "  inflating: CovidDataset/Train/Normal/NORMAL2-IM-1320-0001.jpeg  \n",
            "  inflating: CovidDataset/Train/Covid/1.CXRCTThoraximagesofCOVID-19fromSingapore.pdf-002-fig3b.png  \n",
            "  inflating: CovidDataset/Train/Normal/NORMAL2-IM-0815-0001.jpeg  \n",
            "  inflating: CovidDataset/Train/Covid/nejmoa2001191_f5-PA.jpeg  \n",
            "  inflating: CovidDataset/Train/Normal/NORMAL2-IM-1336-0001.jpeg  \n",
            "  inflating: CovidDataset/Train/Normal/IM-0369-0001.jpeg  \n",
            "  inflating: CovidDataset/Train/Normal/NORMAL2-IM-1300-0001.jpeg  \n",
            "  inflating: CovidDataset/Train/Normal/NORMAL2-IM-1295-0001.jpeg  \n",
            "  inflating: CovidDataset/Train/Normal/NORMAL2-IM-0518-0001.jpeg  \n",
            "  inflating: CovidDataset/Train/Covid/covid-19-pneumonia-34.png  \n",
            "  inflating: CovidDataset/Train/Normal/IM-0385-0001.jpeg  \n",
            "  inflating: CovidDataset/Train/Covid/F63AB6CE-1968-4154-A70F-913AF154F53D.jpeg  \n",
            "  inflating: CovidDataset/Val/Normal/NORMAL2-IM-0842-0001.jpeg  \n",
            "  inflating: CovidDataset/Val/Normal/NORMAL2-IM-0416-0001-0001.jpeg  \n",
            "  inflating: CovidDataset/Val/Normal/NORMAL2-IM-1275-0001.jpeg  \n",
            "  inflating: CovidDataset/Train/Normal/IM-0467-0001.jpeg  \n",
            "  inflating: CovidDataset/Train/Normal/NORMAL2-IM-1344-0001.jpeg  \n",
            "  inflating: CovidDataset/Train/Normal/IM-0301-0001.jpeg  \n",
            "  inflating: CovidDataset/Train/Normal/IM-0421-0001.jpeg  \n",
            "  inflating: CovidDataset/Train/Covid/ryct.2020200034.fig5-day0.jpeg  \n",
            "  inflating: CovidDataset/Train/Covid/covid-19-pneumonia-58-day-3.jpg  \n",
            "  inflating: CovidDataset/Train/Covid/covid-19-pneumonia-mild.JPG  \n",
            "  inflating: CovidDataset/Val/Normal/NORMAL2-IM-0859-0001.jpeg  \n",
            "  inflating: CovidDataset/Val/Normal/NORMAL2-IM-1237-0001.jpeg  \n",
            "  inflating: CovidDataset/Train/Normal/NORMAL2-IM-1103-0001-0001.jpeg  \n",
            "  inflating: CovidDataset/Train/Covid/1-s2.0-S1684118220300682-main.pdf-002-a2.png  \n",
            "  inflating: CovidDataset/Val/Normal/NORMAL2-IM-0535-0001-0002.jpeg  \n",
            "  inflating: CovidDataset/Train/Covid/1.CXRCTThoraximagesofCOVID-19fromSingapore.pdf-003-fig4b.png  \n",
            "  inflating: CovidDataset/Train/Normal/IM-0461-0001.jpeg  \n",
            "  inflating: CovidDataset/Train/Normal/IM-0372-0001.jpeg  \n",
            "  inflating: CovidDataset/Train/Normal/IM-0666-0001-0001.jpeg  \n",
            "  inflating: CovidDataset/Train/Normal/NORMAL2-IM-0840-0001.jpeg  \n",
            "  inflating: CovidDataset/Train/Covid/ryct.2020200034.fig5-day4.jpeg  \n",
            "  inflating: CovidDataset/Train/Normal/NORMAL2-IM-0798-0001.jpeg  \n",
            "  inflating: CovidDataset/Train/Normal/IM-0351-0001.jpeg  \n",
            "  inflating: CovidDataset/Train/Covid/auntminnie-a-2020_01_28_23_51_6665_2020_01_28_Vietnam_coronavirus.jpeg  \n",
            "  inflating: CovidDataset/Train/Covid/1-s2.0-S1684118220300682-main.pdf-002-a1.png  \n",
            "  inflating: CovidDataset/Val/Normal/NORMAL2-IM-1240-0001.jpeg  \n",
            "  inflating: CovidDataset/Train/Covid/93FE0BB1-022D-4F24-9727-987A07975FFB.jpeg  \n",
            "  inflating: CovidDataset/Train/Covid/16660_1_1.jpg  \n",
            "  inflating: CovidDataset/Train/Covid/figure1-5e71be566aa8714a04de3386-98-left.jpeg  \n",
            "  inflating: CovidDataset/Train/Normal/IM-0703-0001.jpeg  \n",
            "  inflating: CovidDataset/Train/Covid/covid-19-pneumonia-7-PA.jpg  \n",
            "  inflating: CovidDataset/Train/Normal/NORMAL2-IM-1277-0001-0002.jpeg  \n",
            "  inflating: CovidDataset/Train/Covid/8FDE8DBA-CFBD-4B4C-B1A4-6F36A93B7E87.jpeg  \n",
            "  inflating: CovidDataset/Train/Normal/IM-0482-0001.jpeg  \n",
            "  inflating: CovidDataset/Train/Normal/IM-0656-0001-0002.jpeg  \n",
            "  inflating: CovidDataset/Train/Covid/16664_1_1.jpg  \n",
            "  inflating: CovidDataset/Train/Normal/IM-0430-0001.jpeg  \n",
            "  inflating: CovidDataset/Train/Covid/covid-19-pneumonia-67.jpeg  \n",
            "  inflating: CovidDataset/Train/Covid/ciaa199.pdf-001-a.png  \n",
            "  inflating: CovidDataset/Train/Normal/IM-0187-0001.jpeg  \n",
            "  inflating: CovidDataset/Val/Normal/NORMAL2-IM-0652-0001.jpeg  \n",
            "  inflating: CovidDataset/Train/Normal/IM-0691-0001.jpeg  \n",
            "  inflating: CovidDataset/Train/Covid/CD50BA96-6982-4C80-AE7B-5F67ACDBFA56.jpeg  \n",
            "  inflating: CovidDataset/Train/Normal/NORMAL2-IM-0976-0001.jpeg  \n",
            "  inflating: CovidDataset/Train/Covid/covid-19-pneumonia-20-pa-on-admission.jpg  \n",
            "  inflating: CovidDataset/Train/Covid/1-s2.0-S0929664620300449-gr2_lrg-c.jpg  \n",
            "  inflating: CovidDataset/Train/Covid/fff49165-b22d-4bb4-b9d1-d5d62c52436c.annot.original.png  \n",
            "  inflating: CovidDataset/Train/Covid/1.CXRCTThoraximagesofCOVID-19fromSingapore.pdf-002-fig3a.png  \n",
            "  inflating: CovidDataset/Val/Normal/NORMAL2-IM-0395-0001.jpeg  \n",
            "  inflating: CovidDataset/Train/Normal/IM-0182-0001.jpeg  \n",
            "  inflating: CovidDataset/Train/Covid/covid-19-pneumonia-evolution-over-a-week-1-day0-PA.jpg  \n",
            "  inflating: CovidDataset/Val/Normal/NORMAL2-IM-0914-0001.jpeg  \n",
            "  inflating: CovidDataset/Train/Covid/covid-19-pneumonia-30-PA.jpg  \n",
            "  inflating: CovidDataset/Train/Covid/nejmc2001573_f1a.jpeg  \n",
            "  inflating: CovidDataset/Train/Covid/kjr-21-e25-g001-l-a.jpg  \n",
            "  inflating: CovidDataset/Val/Normal/NORMAL2-IM-0873-0001.jpeg  \n",
            "  inflating: CovidDataset/Train/Normal/NORMAL2-IM-0501-0001.jpeg  \n",
            "  inflating: CovidDataset/Train/Normal/IM-0667-0001.jpeg  \n",
            "  inflating: CovidDataset/Train/Normal/IM-0551-0001-0002.jpeg  \n",
            "  inflating: CovidDataset/Train/Normal/IM-0176-0001.jpeg  \n",
            "  inflating: CovidDataset/Train/Covid/lancet-case2b.jpg  \n",
            "  inflating: CovidDataset/Train/Normal/IM-0713-0001.jpeg  \n",
            "  inflating: CovidDataset/Train/Covid/all14238-fig-0001-m-c.jpg  \n",
            "  inflating: CovidDataset/Val/Covid/covid-19-pneumonia-14-PA.png  \n",
            "  inflating: CovidDataset/Val/Normal/NORMAL2-IM-0851-0001-0001.jpeg  \n",
            "  inflating: CovidDataset/Train/Normal/NORMAL2-IM-1154-0001-0002.jpeg  \n",
            "  inflating: CovidDataset/Train/Normal/IM-0619-0001.jpeg  \n",
            "  inflating: CovidDataset/Val/Normal/NORMAL2-IM-0441-0001.jpeg  \n",
            "  inflating: CovidDataset/Val/Normal/NORMAL2-IM-0765-0001.jpeg  \n",
            "  inflating: CovidDataset/Train/Normal/IM-0172-0001.jpeg  \n",
            "  inflating: CovidDataset/Train/Normal/IM-0551-0001-0001.jpeg  \n",
            "  inflating: CovidDataset/Train/Covid/gr1_lrg-b.jpg  \n",
            "  inflating: CovidDataset/Train/Covid/1-s2.0-S0929664620300449-gr2_lrg-b.jpg  \n",
            "  inflating: CovidDataset/Train/Normal/IM-0514-0001.jpeg  \n",
            "  inflating: CovidDataset/Train/Covid/covid-19-pneumonia-20.jpg  \n",
            "  inflating: CovidDataset/Train/Normal/IM-0544-0001.jpeg  \n",
            "  inflating: CovidDataset/Val/Normal/NORMAL2-IM-1022-0001.jpeg  \n",
            "  inflating: CovidDataset/Train/Normal/NORMAL2-IM-0935-0001.jpeg  \n",
            "  inflating: CovidDataset/Train/Covid/covid-19-pneumonia-22-day1-pa.png  \n",
            "  inflating: CovidDataset/Train/Normal/NORMAL2-IM-1288-0001.jpeg  \n",
            "  inflating: CovidDataset/Train/Covid/16669_1_1.jpeg  \n",
            "  inflating: CovidDataset/Train/Covid/nejmoa2001191_f4.jpeg  \n",
            "  inflating: CovidDataset/Val/Normal/NORMAL2-IM-0462-0001.jpeg  \n",
            "  inflating: CovidDataset/Val/Normal/NORMAL2-IM-0894-0001.jpeg  \n",
            "  inflating: CovidDataset/Train/Covid/nejmc2001573_f1b.jpeg  \n",
            "  inflating: CovidDataset/Train/Normal/NORMAL2-IM-1094-0001-0001.jpeg  \n",
            "  inflating: CovidDataset/Train/Normal/IM-0543-0001-0002.jpeg  \n",
            "  inflating: CovidDataset/Train/Covid/16669_3_1.jpeg  \n",
            "  inflating: CovidDataset/Train/Covid/covid-19-pneumonia-58-day-7.jpg  \n",
            "  inflating: CovidDataset/Train/Normal/IM-0536-0001.jpeg  \n",
            "  inflating: CovidDataset/Train/Normal/NORMAL2-IM-1214-0001.jpeg  \n",
            "  inflating: CovidDataset/Train/Covid/AR-2.jpg  \n",
            "  inflating: CovidDataset/Train/Covid/9fdd3c3032296fd04d2cad5d9070d4_jumbo.jpeg  \n",
            "  inflating: CovidDataset/Train/Covid/1B734A89-A1BF-49A8-A1D3-66FAFA4FAC5D.jpeg  \n",
            "  inflating: CovidDataset/Train/Normal/IM-0156-0001.jpeg  \n",
            "  inflating: CovidDataset/Train/Normal/NORMAL2-IM-1111-0001.jpeg  \n",
            "  inflating: CovidDataset/Train/Covid/FE9F9A5D-2830-46F9-851B-1FF4534959BE.jpeg  \n",
            "  inflating: CovidDataset/Train/Normal/IM-0429-0001.jpeg  \n",
            "  inflating: CovidDataset/Train/Covid/covid-19-pneumonia-44-day-0.jpeg  \n",
            "  inflating: CovidDataset/Val/Normal/NORMAL2-IM-0869-0001.jpeg  \n",
            "  inflating: CovidDataset/Train/Covid/figure1-5e75d0940b71e1b702629659-98-right.jpeg  \n",
            "  inflating: CovidDataset/Train/Covid/03BF7561-A9BA-4C3C-B8A0-D3E585F73F3C.jpeg  \n",
            "  inflating: CovidDataset/Train/Covid/ciaa199.pdf-001-c.png  \n",
            "  inflating: CovidDataset/Train/Covid/extubation-4.jpg  \n",
            "  inflating: CovidDataset/Train/Normal/IM-0556-0001.jpeg  \n",
            "  inflating: CovidDataset/Train/Covid/1.CXRCTThoraximagesofCOVID-19fromSingapore.pdf-003-fig4a.png  \n",
            "  inflating: CovidDataset/Train/Covid/covid-19-pneumonia-19.jpg  \n",
            "  inflating: CovidDataset/Train/Normal/IM-0392-0001.jpeg  \n",
            "  inflating: CovidDataset/Train/Normal/IM-0530-0001.jpeg  \n",
            "  inflating: CovidDataset/Train/Normal/IM-0261-0001.jpeg  \n",
            "  inflating: CovidDataset/Train/Covid/1312A392-67A3-4EBF-9319-810CF6DA5EF6.jpeg  \n",
            "  inflating: CovidDataset/Train/Normal/IM-0525-0001.jpeg  \n",
            "  inflating: CovidDataset/Train/Covid/lancet-case2a.jpg  \n",
            "  inflating: CovidDataset/Train/Covid/ciaa199.pdf-001-b.png  \n",
            "  inflating: CovidDataset/Train/Normal/NORMAL2-IM-0941-0001.jpeg  \n",
            "  inflating: CovidDataset/Train/Normal/IM-0488-0001.jpeg  \n",
            "  inflating: CovidDataset/Train/Covid/nejmoa2001191_f3-PA.jpeg  \n",
            "  inflating: CovidDataset/Train/Normal/IM-0447-0001.jpeg  \n",
            "  inflating: CovidDataset/Train/Covid/2966893D-5DDF-4B68-9E2B-4979D5956C8E.jpeg  \n",
            "  inflating: CovidDataset/Train/Covid/ryct.2020200028.fig1a.jpeg  \n",
            "  inflating: CovidDataset/Train/Normal/IM-0688-0001.jpeg  \n",
            "  inflating: CovidDataset/Train/Covid/16660_3_1.jpg  \n",
            "  inflating: CovidDataset/Val/Normal/NORMAL2-IM-1045-0001.jpeg  \n",
            "  inflating: CovidDataset/Train/Normal/NORMAL2-IM-0978-0001.jpeg  \n",
            "  inflating: CovidDataset/Train/Covid/2-chest-filmc.jpg  \n",
            "  inflating: CovidDataset/Val/Normal/NORMAL2-IM-0678-0001.jpeg  \n",
            "  inflating: CovidDataset/Train/Normal/NORMAL2-IM-0573-0001.jpeg  \n",
            "  inflating: CovidDataset/Train/Normal/IM-0365-0001.jpeg  \n",
            "  inflating: CovidDataset/Train/Normal/IM-0300-0001.jpeg  \n",
            "  inflating: CovidDataset/Train/Normal/IM-0242-0001.jpeg  \n",
            "  inflating: CovidDataset/Train/Covid/F4341CE7-73C9-45C6-99C8-8567A5484B63.jpeg  \n",
            "  inflating: CovidDataset/Train/Normal/NORMAL2-IM-1019-0001.jpeg  \n",
            "  inflating: CovidDataset/Train/Covid/01E392EE-69F9-4E33-BFCE-E5C968654078.jpeg  \n",
            "  inflating: CovidDataset/Train/Normal/IM-0648-0001.jpeg  \n",
            "  inflating: CovidDataset/Val/Normal/NORMAL2-IM-0408-0001.jpeg  \n",
            "  inflating: CovidDataset/Train/Covid/yxppt-2020-02-19_00-51-27_287214-day8.jpg  \n",
            "  inflating: CovidDataset/Train/Normal/IM-0635-0001.jpeg  \n",
            "  inflating: CovidDataset/Train/Covid/radiol.2020200490.fig3.jpeg  \n",
            "  inflating: CovidDataset/Val/Normal/NORMAL2-IM-1060-0001.jpeg  \n"
          ],
          "name": "stdout"
        }
      ]
    },
    {
      "cell_type": "code",
      "metadata": {
        "id": "mOJOb5Hygi0v"
      },
      "source": [
        "TRAIN_PATH = 'CovidDataset/Train'\n",
        "VAL_PATH = 'CovidDataset/Val'"
      ],
      "execution_count": null,
      "outputs": []
    },
    {
      "cell_type": "code",
      "metadata": {
        "id": "I4rEs4Hu3TfT"
      },
      "source": [
        "import os\n",
        "import numpy as np\n",
        "import matplotlib.pyplot as plt\n",
        "import keras\n",
        "from keras.layers import *\n",
        "from keras.models import *\n",
        "from keras.preprocessing import image"
      ],
      "execution_count": null,
      "outputs": []
    },
    {
      "cell_type": "code",
      "metadata": {
        "id": "eTbv1hx13mP3"
      },
      "source": [
        "model = Sequential()\n",
        "#we will be extracting 32 features from the first layer\n",
        "\n",
        "#input shape is 224. It will have 224 height, width, and number of channels \n",
        "model.add(Conv2D(32,kernel_size=(3,3),activation='relu',input_shape=(224,224,3)))#convolutional layer with 32 filters. Kernal size of 3,3 is standard\n",
        "\n",
        "#adding another layer\n",
        "model.add(Conv2D(64,(3,3),activation='relu'))\n",
        "\n",
        "model.add(MaxPooling2D(pool_size=(2,2)))# further increases the receptive field\n",
        "\n",
        "model.add(Dropout(0.25))\n",
        "\n",
        "model.add(Conv2D(64,(3,3),activation='relu'))\n",
        "\n",
        "\n",
        "model.add(MaxPooling2D(pool_size=(2,2)))# further increases the receptive field\n",
        "\n",
        "model.add(Dropout(0.25))#presents overfitting\n",
        "\n",
        "\n",
        "model.add(Conv2D(128,(3,3),activation='relu'))\n",
        "\n",
        "model.add(MaxPooling2D(pool_size=(2,2)))\n",
        "\n",
        "model.add(Dropout(0.25))\n",
        "\n",
        "\n",
        "#4 convolutional layers have been added\n",
        "\n",
        "model.add(Flatten())\n",
        "\n",
        "model.add(Dense(64,activation='relu'))\n",
        "\n",
        "model.add(Dropout(0.5))\n",
        "\n",
        "model.add(Dense(1,activation='sigmoid'))\n",
        "\n",
        "model.compile(loss=keras.losses.binary_crossentropy,optimizer='adam',metrics=['accuracy'])\n"
      ],
      "execution_count": null,
      "outputs": []
    },
    {
      "cell_type": "code",
      "metadata": {
        "id": "vzRTYxYlZNQB",
        "outputId": "5626cd55-fbe7-44cd-bc7a-ae2b1c626b2c",
        "colab": {
          "base_uri": "https://localhost:8080/",
          "height": 642
        }
      },
      "source": [
        "model.summary()"
      ],
      "execution_count": null,
      "outputs": [
        {
          "output_type": "stream",
          "text": [
            "Model: \"sequential\"\n",
            "_________________________________________________________________\n",
            "Layer (type)                 Output Shape              Param #   \n",
            "=================================================================\n",
            "conv2d (Conv2D)              (None, 222, 222, 32)      896       \n",
            "_________________________________________________________________\n",
            "conv2d_1 (Conv2D)            (None, 220, 220, 64)      18496     \n",
            "_________________________________________________________________\n",
            "max_pooling2d (MaxPooling2D) (None, 110, 110, 64)      0         \n",
            "_________________________________________________________________\n",
            "dropout (Dropout)            (None, 110, 110, 64)      0         \n",
            "_________________________________________________________________\n",
            "conv2d_2 (Conv2D)            (None, 108, 108, 64)      36928     \n",
            "_________________________________________________________________\n",
            "max_pooling2d_1 (MaxPooling2 (None, 54, 54, 64)        0         \n",
            "_________________________________________________________________\n",
            "dropout_1 (Dropout)          (None, 54, 54, 64)        0         \n",
            "_________________________________________________________________\n",
            "conv2d_3 (Conv2D)            (None, 52, 52, 128)       73856     \n",
            "_________________________________________________________________\n",
            "max_pooling2d_2 (MaxPooling2 (None, 26, 26, 128)       0         \n",
            "_________________________________________________________________\n",
            "dropout_2 (Dropout)          (None, 26, 26, 128)       0         \n",
            "_________________________________________________________________\n",
            "flatten (Flatten)            (None, 86528)             0         \n",
            "_________________________________________________________________\n",
            "dense (Dense)                (None, 64)                5537856   \n",
            "_________________________________________________________________\n",
            "dropout_3 (Dropout)          (None, 64)                0         \n",
            "_________________________________________________________________\n",
            "dense_1 (Dense)              (None, 1)                 65        \n",
            "=================================================================\n",
            "Total params: 5,668,097\n",
            "Trainable params: 5,668,097\n",
            "Non-trainable params: 0\n",
            "_________________________________________________________________\n"
          ],
          "name": "stdout"
        }
      ]
    },
    {
      "cell_type": "code",
      "metadata": {
        "id": "OjnG-3rqEDM3"
      },
      "source": [
        "#train from scratch grad descent = adam\n",
        "\n",
        "\n",
        "train_datagen = image.ImageDataGenerator(\n",
        "    rescale = 1./255, #we are dividing by 255 to normalize our data\n",
        "    shear_range = 0.2,\n",
        "    zoom_range = 0.2,\n",
        "    horizontal_flip = True,\n",
        ")\n",
        "\n",
        "test_dataset = image.ImageDataGenerator(rescale=1./255)\n"
      ],
      "execution_count": null,
      "outputs": []
    },
    {
      "cell_type": "code",
      "metadata": {
        "id": "jvQ-pvBabe1X",
        "outputId": "6be6ccb9-678c-470c-ccf7-ba1c5a7feafa",
        "colab": {
          "base_uri": "https://localhost:8080/",
          "height": 34
        }
      },
      "source": [
        "train_generator = train_datagen.flow_from_directory(\n",
        "    'CovidDataset/Train',\n",
        "    target_size = (224,224),#converts the images to 224*224 images{standard choice}\n",
        "    batch_size=32,\n",
        "    class_mode = 'binary'\n",
        ")"
      ],
      "execution_count": null,
      "outputs": [
        {
          "output_type": "stream",
          "text": [
            "Found 224 images belonging to 2 classes.\n"
          ],
          "name": "stdout"
        }
      ]
    },
    {
      "cell_type": "code",
      "metadata": {
        "id": "H6R3zOjOcBRb",
        "outputId": "e26a5a93-5e7a-4b1b-dfe3-c6f35c0b55b2",
        "colab": {
          "base_uri": "https://localhost:8080/",
          "height": 34
        }
      },
      "source": [
        "train_generator.class_indices"
      ],
      "execution_count": null,
      "outputs": [
        {
          "output_type": "execute_result",
          "data": {
            "text/plain": [
              "{'Covid': 0, 'Normal': 1}"
            ]
          },
          "metadata": {
            "tags": []
          },
          "execution_count": 12
        }
      ]
    },
    {
      "cell_type": "code",
      "metadata": {
        "id": "o4k00Gi-cMqz",
        "outputId": "bee0ecd9-3cad-45d9-ec9e-dce803636971",
        "colab": {
          "base_uri": "https://localhost:8080/",
          "height": 34
        }
      },
      "source": [
        "validation_generator = test_dataset.flow_from_directory(\n",
        "    'CovidDataset/Val',\n",
        "    target_size = (224,224),#converts the images to 224*224 images{standard choice}\n",
        "    batch_size=32,\n",
        "    class_mode = 'binary'\n",
        "    \n",
        ")"
      ],
      "execution_count": null,
      "outputs": [
        {
          "output_type": "stream",
          "text": [
            "Found 60 images belonging to 2 classes.\n"
          ],
          "name": "stdout"
        }
      ]
    },
    {
      "cell_type": "code",
      "metadata": {
        "id": "hCd516uqdgpm",
        "outputId": "d2a73347-bb2f-4865-a520-3ab794976d4c",
        "colab": {
          "background_save": true,
          "base_uri": "https://localhost:8080/",
          "height": 1000
        }
      },
      "source": [
        "\n",
        "\n",
        "model.fit(train_generator,validation_data=validation_generator,epochs=80)"
      ],
      "execution_count": null,
      "outputs": [
        {
          "output_type": "stream",
          "text": [
            "Epoch 1/80\n",
            "7/7 [==============================] - 60s 9s/step - loss: 1.3918 - accuracy: 0.5714 - val_loss: 0.6914 - val_accuracy: 0.5000\n",
            "Epoch 2/80\n",
            "7/7 [==============================] - 60s 9s/step - loss: 0.6595 - accuracy: 0.6116 - val_loss: 0.6520 - val_accuracy: 0.7000\n",
            "Epoch 3/80\n",
            "7/7 [==============================] - 60s 9s/step - loss: 0.5742 - accuracy: 0.6920 - val_loss: 0.4816 - val_accuracy: 0.8500\n",
            "Epoch 4/80\n",
            "7/7 [==============================] - 59s 8s/step - loss: 0.3695 - accuracy: 0.8259 - val_loss: 0.2476 - val_accuracy: 0.9500\n",
            "Epoch 5/80\n",
            "7/7 [==============================] - 59s 8s/step - loss: 0.2751 - accuracy: 0.8929 - val_loss: 0.1530 - val_accuracy: 0.9667\n",
            "Epoch 6/80\n",
            "7/7 [==============================] - 64s 9s/step - loss: 0.2430 - accuracy: 0.9107 - val_loss: 0.1814 - val_accuracy: 0.9667\n",
            "Epoch 7/80\n",
            "7/7 [==============================] - 60s 9s/step - loss: 0.2114 - accuracy: 0.9420 - val_loss: 0.0855 - val_accuracy: 0.9833\n",
            "Epoch 8/80\n",
            "7/7 [==============================] - 60s 9s/step - loss: 0.1617 - accuracy: 0.9420 - val_loss: 0.1683 - val_accuracy: 0.9667\n",
            "Epoch 9/80\n",
            "7/7 [==============================] - 60s 9s/step - loss: 0.1569 - accuracy: 0.9375 - val_loss: 0.0536 - val_accuracy: 0.9833\n",
            "Epoch 10/80\n",
            "7/7 [==============================] - 59s 8s/step - loss: 0.1491 - accuracy: 0.9420 - val_loss: 0.0600 - val_accuracy: 0.9667\n",
            "Epoch 11/80\n",
            "7/7 [==============================] - 59s 8s/step - loss: 0.1616 - accuracy: 0.9643 - val_loss: 0.0930 - val_accuracy: 0.9667\n",
            "Epoch 12/80\n",
            "7/7 [==============================] - 60s 9s/step - loss: 0.1368 - accuracy: 0.9598 - val_loss: 0.0916 - val_accuracy: 0.9833\n",
            "Epoch 13/80\n",
            "7/7 [==============================] - 59s 8s/step - loss: 0.1330 - accuracy: 0.9420 - val_loss: 0.0879 - val_accuracy: 0.9667\n",
            "Epoch 14/80\n",
            "7/7 [==============================] - 59s 8s/step - loss: 0.1254 - accuracy: 0.9464 - val_loss: 0.0716 - val_accuracy: 0.9667\n",
            "Epoch 15/80\n",
            "7/7 [==============================] - 62s 9s/step - loss: 0.1102 - accuracy: 0.9598 - val_loss: 0.0747 - val_accuracy: 0.9667\n",
            "Epoch 16/80\n",
            "7/7 [==============================] - 60s 9s/step - loss: 0.0982 - accuracy: 0.9554 - val_loss: 0.0669 - val_accuracy: 0.9667\n",
            "Epoch 17/80\n",
            "7/7 [==============================] - 59s 8s/step - loss: 0.0805 - accuracy: 0.9821 - val_loss: 0.0805 - val_accuracy: 0.9667\n",
            "Epoch 18/80\n",
            "7/7 [==============================] - 59s 8s/step - loss: 0.1385 - accuracy: 0.9464 - val_loss: 0.0926 - val_accuracy: 0.9667\n",
            "Epoch 19/80\n",
            "7/7 [==============================] - 59s 8s/step - loss: 0.1685 - accuracy: 0.9241 - val_loss: 0.1158 - val_accuracy: 0.9667\n",
            "Epoch 20/80\n",
            "7/7 [==============================] - 59s 8s/step - loss: 0.1891 - accuracy: 0.9330 - val_loss: 0.0932 - val_accuracy: 0.9667\n",
            "Epoch 21/80\n",
            "7/7 [==============================] - 59s 8s/step - loss: 0.1160 - accuracy: 0.9643 - val_loss: 0.0814 - val_accuracy: 0.9667\n",
            "Epoch 22/80\n",
            "7/7 [==============================] - 59s 8s/step - loss: 0.0890 - accuracy: 0.9688 - val_loss: 0.0558 - val_accuracy: 0.9667\n",
            "Epoch 23/80\n",
            "7/7 [==============================] - 62s 9s/step - loss: 0.1382 - accuracy: 0.9241 - val_loss: 0.1013 - val_accuracy: 0.9667\n",
            "Epoch 24/80\n",
            "7/7 [==============================] - 59s 8s/step - loss: 0.1193 - accuracy: 0.9554 - val_loss: 0.0680 - val_accuracy: 0.9667\n",
            "Epoch 25/80\n",
            "7/7 [==============================] - 59s 8s/step - loss: 0.1005 - accuracy: 0.9554 - val_loss: 0.0568 - val_accuracy: 0.9667\n",
            "Epoch 26/80\n",
            "7/7 [==============================] - 59s 8s/step - loss: 0.0918 - accuracy: 0.9643 - val_loss: 0.0671 - val_accuracy: 0.9667\n",
            "Epoch 27/80\n",
            "7/7 [==============================] - 59s 8s/step - loss: 0.0950 - accuracy: 0.9732 - val_loss: 0.0710 - val_accuracy: 0.9667\n",
            "Epoch 28/80\n",
            "7/7 [==============================] - 59s 8s/step - loss: 0.0675 - accuracy: 0.9821 - val_loss: 0.0613 - val_accuracy: 0.9667\n",
            "Epoch 29/80\n",
            "7/7 [==============================] - 60s 9s/step - loss: 0.1525 - accuracy: 0.9598 - val_loss: 0.1061 - val_accuracy: 0.9667\n",
            "Epoch 30/80\n",
            "7/7 [==============================] - 60s 9s/step - loss: 0.1424 - accuracy: 0.9643 - val_loss: 0.0700 - val_accuracy: 0.9667\n",
            "Epoch 31/80\n",
            "7/7 [==============================] - 60s 9s/step - loss: 0.0664 - accuracy: 0.9777 - val_loss: 0.0747 - val_accuracy: 0.9667\n",
            "Epoch 32/80\n",
            "7/7 [==============================] - 63s 9s/step - loss: 0.0898 - accuracy: 0.9643 - val_loss: 0.0585 - val_accuracy: 0.9667\n",
            "Epoch 33/80\n",
            "7/7 [==============================] - 59s 8s/step - loss: 0.0557 - accuracy: 0.9777 - val_loss: 0.0555 - val_accuracy: 0.9500\n",
            "Epoch 34/80\n",
            "7/7 [==============================] - 59s 8s/step - loss: 0.0876 - accuracy: 0.9732 - val_loss: 0.0568 - val_accuracy: 0.9667\n",
            "Epoch 35/80\n",
            "7/7 [==============================] - 59s 8s/step - loss: 0.0593 - accuracy: 0.9866 - val_loss: 0.0959 - val_accuracy: 0.9667\n",
            "Epoch 36/80\n",
            "7/7 [==============================] - 59s 8s/step - loss: 0.0652 - accuracy: 0.9643 - val_loss: 0.0545 - val_accuracy: 0.9667\n",
            "Epoch 37/80\n",
            "7/7 [==============================] - 59s 8s/step - loss: 0.1495 - accuracy: 0.9509 - val_loss: 0.1144 - val_accuracy: 0.9500\n",
            "Epoch 38/80\n",
            "7/7 [==============================] - 59s 8s/step - loss: 0.0936 - accuracy: 0.9643 - val_loss: 0.0572 - val_accuracy: 0.9667\n",
            "Epoch 39/80\n",
            "7/7 [==============================] - 59s 8s/step - loss: 0.0462 - accuracy: 0.9866 - val_loss: 0.0941 - val_accuracy: 0.9667\n",
            "Epoch 40/80\n",
            "7/7 [==============================] - 59s 8s/step - loss: 0.0495 - accuracy: 0.9866 - val_loss: 0.0583 - val_accuracy: 0.9667\n",
            "Epoch 41/80\n",
            "7/7 [==============================] - 63s 9s/step - loss: 0.0382 - accuracy: 0.9821 - val_loss: 0.0712 - val_accuracy: 0.9667\n",
            "Epoch 42/80\n",
            "7/7 [==============================] - 60s 9s/step - loss: 0.0765 - accuracy: 0.9688 - val_loss: 0.0675 - val_accuracy: 0.9667\n",
            "Epoch 43/80\n",
            "7/7 [==============================] - 59s 8s/step - loss: 0.0564 - accuracy: 0.9732 - val_loss: 0.0766 - val_accuracy: 0.9667\n",
            "Epoch 44/80\n",
            "7/7 [==============================] - 59s 8s/step - loss: 0.0584 - accuracy: 0.9821 - val_loss: 0.0570 - val_accuracy: 0.9667\n",
            "Epoch 45/80\n",
            "7/7 [==============================] - 59s 8s/step - loss: 0.0571 - accuracy: 0.9821 - val_loss: 0.0824 - val_accuracy: 0.9667\n",
            "Epoch 46/80\n",
            "7/7 [==============================] - 59s 8s/step - loss: 0.0445 - accuracy: 0.9821 - val_loss: 0.0467 - val_accuracy: 0.9667\n",
            "Epoch 47/80\n",
            "7/7 [==============================] - 59s 8s/step - loss: 0.0807 - accuracy: 0.9688 - val_loss: 0.0691 - val_accuracy: 0.9667\n",
            "Epoch 48/80\n",
            "7/7 [==============================] - 59s 8s/step - loss: 0.0368 - accuracy: 0.9911 - val_loss: 0.0537 - val_accuracy: 0.9667\n",
            "Epoch 49/80\n",
            "7/7 [==============================] - 59s 8s/step - loss: 0.0530 - accuracy: 0.9821 - val_loss: 0.0962 - val_accuracy: 0.9667\n",
            "Epoch 50/80\n",
            "7/7 [==============================] - 63s 9s/step - loss: 0.0380 - accuracy: 0.9866 - val_loss: 0.1055 - val_accuracy: 0.9667\n",
            "Epoch 51/80\n",
            "7/7 [==============================] - 59s 8s/step - loss: 0.0262 - accuracy: 0.9911 - val_loss: 0.0961 - val_accuracy: 0.9667\n",
            "Epoch 52/80\n",
            "7/7 [==============================] - 59s 8s/step - loss: 0.0607 - accuracy: 0.9732 - val_loss: 0.1333 - val_accuracy: 0.9667\n",
            "Epoch 53/80\n",
            "7/7 [==============================] - 60s 9s/step - loss: 0.0586 - accuracy: 0.9598 - val_loss: 0.0900 - val_accuracy: 0.9667\n",
            "Epoch 54/80\n",
            "7/7 [==============================] - 59s 8s/step - loss: 0.0826 - accuracy: 0.9688 - val_loss: 0.0946 - val_accuracy: 0.9667\n",
            "Epoch 55/80\n",
            "7/7 [==============================] - 59s 8s/step - loss: 0.0856 - accuracy: 0.9777 - val_loss: 0.0935 - val_accuracy: 0.9667\n",
            "Epoch 56/80\n",
            "7/7 [==============================] - 59s 8s/step - loss: 0.0608 - accuracy: 0.9688 - val_loss: 0.0586 - val_accuracy: 0.9667\n",
            "Epoch 57/80\n",
            "7/7 [==============================] - 60s 9s/step - loss: 0.0819 - accuracy: 0.9643 - val_loss: 0.0780 - val_accuracy: 0.9667\n",
            "Epoch 58/80\n",
            "7/7 [==============================] - 63s 9s/step - loss: 0.0763 - accuracy: 0.9821 - val_loss: 0.1351 - val_accuracy: 0.9667\n",
            "Epoch 59/80\n",
            "7/7 [==============================] - 59s 8s/step - loss: 0.0625 - accuracy: 0.9688 - val_loss: 0.1091 - val_accuracy: 0.9500\n",
            "Epoch 60/80\n",
            "7/7 [==============================] - 59s 8s/step - loss: 0.0414 - accuracy: 0.9732 - val_loss: 0.1245 - val_accuracy: 0.9667\n",
            "Epoch 61/80\n",
            "7/7 [==============================] - 59s 8s/step - loss: 0.0511 - accuracy: 0.9732 - val_loss: 0.1099 - val_accuracy: 0.9667\n",
            "Epoch 62/80\n",
            "7/7 [==============================] - 59s 8s/step - loss: 0.0358 - accuracy: 0.9688 - val_loss: 0.0906 - val_accuracy: 0.9500\n",
            "Epoch 63/80\n",
            "7/7 [==============================] - 59s 8s/step - loss: 0.0622 - accuracy: 0.9777 - val_loss: 0.1118 - val_accuracy: 0.9667\n",
            "Epoch 64/80\n",
            "7/7 [==============================] - 59s 8s/step - loss: 0.0623 - accuracy: 0.9821 - val_loss: 0.0843 - val_accuracy: 0.9667\n",
            "Epoch 65/80\n",
            "7/7 [==============================] - 59s 8s/step - loss: 0.0520 - accuracy: 0.9732 - val_loss: 0.1453 - val_accuracy: 0.9667\n",
            "Epoch 66/80\n",
            "7/7 [==============================] - 59s 8s/step - loss: 0.0352 - accuracy: 0.9866 - val_loss: 0.1220 - val_accuracy: 0.9667\n",
            "Epoch 67/80\n",
            "7/7 [==============================] - 63s 9s/step - loss: 0.0543 - accuracy: 0.9911 - val_loss: 0.0956 - val_accuracy: 0.9667\n",
            "Epoch 68/80\n",
            "7/7 [==============================] - 59s 8s/step - loss: 0.0451 - accuracy: 0.9821 - val_loss: 0.0651 - val_accuracy: 0.9667\n",
            "Epoch 69/80\n",
            "7/7 [==============================] - 59s 8s/step - loss: 0.0494 - accuracy: 0.9777 - val_loss: 0.1206 - val_accuracy: 0.9500\n",
            "Epoch 70/80\n",
            "7/7 [==============================] - 59s 8s/step - loss: 0.0425 - accuracy: 0.9821 - val_loss: 0.1402 - val_accuracy: 0.9667\n",
            "Epoch 71/80\n",
            "7/7 [==============================] - 59s 8s/step - loss: 0.0283 - accuracy: 0.9911 - val_loss: 0.1465 - val_accuracy: 0.9667\n",
            "Epoch 72/80\n",
            "7/7 [==============================] - 59s 8s/step - loss: 0.0322 - accuracy: 0.9866 - val_loss: 0.0905 - val_accuracy: 0.9500\n",
            "Epoch 73/80\n",
            "7/7 [==============================] - 59s 8s/step - loss: 0.0433 - accuracy: 0.9688 - val_loss: 0.1360 - val_accuracy: 0.9500\n",
            "Epoch 74/80\n",
            "7/7 [==============================] - 59s 8s/step - loss: 0.0266 - accuracy: 0.9866 - val_loss: 0.1453 - val_accuracy: 0.9500\n",
            "Epoch 75/80\n",
            "7/7 [==============================] - 59s 8s/step - loss: 0.0441 - accuracy: 0.9821 - val_loss: 0.1485 - val_accuracy: 0.9500\n",
            "Epoch 76/80\n",
            "7/7 [==============================] - 63s 9s/step - loss: 0.0282 - accuracy: 0.9866 - val_loss: 0.1715 - val_accuracy: 0.9500\n",
            "Epoch 77/80\n",
            "7/7 [==============================] - 59s 8s/step - loss: 0.0171 - accuracy: 0.9911 - val_loss: 0.1227 - val_accuracy: 0.9500\n",
            "Epoch 78/80\n",
            "7/7 [==============================] - 59s 8s/step - loss: 0.0303 - accuracy: 0.9866 - val_loss: 0.2087 - val_accuracy: 0.9500\n",
            "Epoch 79/80\n",
            "7/7 [==============================] - 59s 8s/step - loss: 0.0338 - accuracy: 0.9732 - val_loss: 0.1518 - val_accuracy: 0.9500\n",
            "Epoch 80/80\n",
            "7/7 [==============================] - 59s 8s/step - loss: 0.0353 - accuracy: 0.9821 - val_loss: 0.1889 - val_accuracy: 0.9500\n"
          ],
          "name": "stdout"
        },
        {
          "output_type": "execute_result",
          "data": {
            "text/plain": [
              "<tensorflow.python.keras.callbacks.History at 0x7f42d40b8390>"
            ]
          },
          "metadata": {
            "tags": []
          },
          "execution_count": 0
        }
      ]
    },
    {
      "cell_type": "code",
      "metadata": {
        "id": "OC7wKTjz7rpJ"
      },
      "source": [
        "from keras.preprocessing import image"
      ],
      "execution_count": null,
      "outputs": []
    },
    {
      "cell_type": "code",
      "metadata": {
        "id": "PrnruCYv534p"
      },
      "source": [
        "y_actual = []\n",
        "y_test = []"
      ],
      "execution_count": null,
      "outputs": []
    },
    {
      "cell_type": "code",
      "metadata": {
        "id": "iEcY-AuS59IB",
        "outputId": "63e5a530-abd5-48b1-ff14-c9ececfd35f7",
        "colab": {
          "base_uri": "https://localhost:8080/",
          "height": 89
        }
      },
      "source": [
        "for i in os.listdir('./CovidDataset/Val/Normal/'):\n",
        "  img = image.load_img('./CovidDataset/Val/Normal/'+i, target_size=(224,224))\n",
        "  img = image.img_to_array(img)\n",
        "  img = np.expand_dims(img, axis=0)\n",
        "  p = model.predict_classes(img)\n",
        "  y_test.append(p[0,0])\n",
        "  y_actual.append(1)"
      ],
      "execution_count": null,
      "outputs": [
        {
          "output_type": "stream",
          "text": [
            "WARNING:tensorflow:From <ipython-input-19-0f3f0e1b538d>:5: Sequential.predict_classes (from tensorflow.python.keras.engine.sequential) is deprecated and will be removed after 2021-01-01.\n",
            "Instructions for updating:\n",
            "Please use instead:* `np.argmax(model.predict(x), axis=-1)`,   if your model does multi-class classification   (e.g. if it uses a `softmax` last-layer activation).* `(model.predict(x) > 0.5).astype(\"int32\")`,   if your model does binary classification   (e.g. if it uses a `sigmoid` last-layer activation).\n"
          ],
          "name": "stdout"
        }
      ]
    },
    {
      "cell_type": "code",
      "metadata": {
        "id": "BXzw92vi6sdC"
      },
      "source": [
        "for i in os.listdir('./CovidDataset/Val/Covid/'):\n",
        "  img = image.load_img('./CovidDataset/Val/Covid/'+i, target_size=(224,224))\n",
        "  img = image.img_to_array(img)\n",
        "  img = np.expand_dims(img, axis=0)\n",
        "  p = model.predict_classes(img) \n",
        "  y_test.append(p[0,0])\n",
        "  y_actual.append(0)"
      ],
      "execution_count": null,
      "outputs": []
    },
    {
      "cell_type": "code",
      "metadata": {
        "id": "u-mbuvQT7f3Z"
      },
      "source": [
        "y_actual = np.array(y_actual)\n",
        "y_test = np.array(y_test)"
      ],
      "execution_count": null,
      "outputs": []
    },
    {
      "cell_type": "code",
      "metadata": {
        "id": "lq136h2kKVgw"
      },
      "source": [
        "from sklearn.metrics import confusion_matrix\n",
        "\n",
        "cm = confusion_matrix(y_actual, y_test)"
      ],
      "execution_count": null,
      "outputs": []
    },
    {
      "cell_type": "code",
      "metadata": {
        "id": "7vPVpIvnKdnC"
      },
      "source": [
        "import seaborn as sns"
      ],
      "execution_count": null,
      "outputs": []
    },
    {
      "cell_type": "code",
      "metadata": {
        "id": "6nF69kKhKf9q",
        "outputId": "7d8496bd-074e-4f65-e4d7-c9648a6ff0d8",
        "colab": {
          "base_uri": "https://localhost:8080/",
          "height": 286
        }
      },
      "source": [
        "sns.heatmap(cm, cmap='plasma', annot=True)\n",
        "\n",
        "\"\"\"\n",
        "As we can see here, my application has produced no false negatives on the test set\n",
        "\n",
        "Since this aims to reduce this amount of false negatives, it has acheived its purpose.\n",
        "\n",
        "\n",
        "\"\"\""
      ],
      "execution_count": null,
      "outputs": [
        {
          "output_type": "execute_result",
          "data": {
            "text/plain": [
              "<matplotlib.axes._subplots.AxesSubplot at 0x7f42c9010ef0>"
            ]
          },
          "metadata": {
            "tags": []
          },
          "execution_count": 25
        },
        {
          "output_type": "display_data",
          "data": {
            "image/png": "[encoded data removed]",
            "text/plain": [
              "<Figure size 432x288 with 2 Axes>"
            ]
          },
          "metadata": {
            "tags": [],
            "needs_background": "light"
          }
        }
      ]
    },
    {
      "cell_type": "code",
      "metadata": {
        "id": "cxmm2cs3jVd5"
      },
      "source": [
        "model.save_weights('model_weights.h5')\n",
        "\n",
        "\n",
        "with open ('model_architecture.json','w') as f:#saving the model architecture as json file\n",
        "  f.write(model.to_json())\n",
        "\n",
        "\n"
      ],
      "execution_count": null,
      "outputs": []
    },
    {
      "cell_type": "code",
      "metadata": {
        "id": "cgNhOWLLyg4o"
      },
      "source": [
        "!pip install tensorflowjs"
      ],
      "execution_count": null,
      "outputs": []
    },
    {
      "cell_type": "code",
      "metadata": {
        "id": "vSHUF0ezzHo6"
      },
      "source": [
        "import tensorflowjs as tfjs\n",
        "\n",
        "tfjs.converters.save_keras_model(model,'././models/covidimaging')"
      ],
      "execution_count": null,
      "outputs": []
    },
    {
      "cell_type": "code",
      "metadata": {
        "id": "bZoX3h2EMh6N"
      },
      "source": [
        ""
      ],
      "execution_count": null,
      "outputs": []
    }
  ]
}